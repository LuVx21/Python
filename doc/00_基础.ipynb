{
  "nbformat": 4,
  "nbformat_minor": 0,
  "metadata": {
    "colab": {
      "name": "00.基础.ipynb",
      "version": "0.3.2",
      "provenance": [],
      "collapsed_sections": [],
      "include_colab_link": true
    },
    "kernelspec": {
      "name": "python3",
      "display_name": "Python 3"
    }
  },
  "cells": [
    {
      "cell_type": "markdown",
      "metadata": {
        "id": "view-in-github",
        "colab_type": "text"
      },
      "source": [
        "<a href=\"https://colab.research.google.com/github/LuVx21/python/blob/master/doc/00_%E5%9F%BA%E7%A1%80.ipynb\" target=\"_parent\"><img src=\"https://colab.research.google.com/assets/colab-badge.svg\" alt=\"Open In Colab\"/></a>"
      ]
    },
    {
      "cell_type": "markdown",
      "metadata": {
        "id": "bu8gtUGBnH1b",
        "colab_type": "text"
      },
      "source": [
        "## List\n",
        "\n",
        "\n",
        "## Tuple\n"
      ]
    },
    {
      "cell_type": "code",
      "metadata": {
        "id": "rAn093axTbio",
        "colab_type": "code",
        "colab": {}
      },
      "source": [
        "print(type(1))\n",
        "print('Hello World!')"
      ],
      "execution_count": 0,
      "outputs": []
    },
    {
      "cell_type": "markdown",
      "metadata": {
        "id": "eJ4qJM35TiLZ",
        "colab_type": "text"
      },
      "source": [
        "## Map\n",
        "\n",
        "\n",
        "\n",
        "\n",
        "\n",
        "\n"
      ]
    },
    {
      "cell_type": "code",
      "metadata": {
        "id": "0z9-a3HNVg5m",
        "colab_type": "code",
        "outputId": "6dbe0a5e-7a3c-4e28-a813-afee6d63a5e9",
        "colab": {
          "base_uri": "https://localhost:8080/",
          "height": 35
        }
      },
      "source": [
        "map = {\"a\" : 1,\"b\" : 2}\n",
        "map[\"a\"]"
      ],
      "execution_count": 0,
      "outputs": [
        {
          "output_type": "execute_result",
          "data": {
            "text/plain": [
              "1"
            ]
          },
          "metadata": {
            "tags": []
          },
          "execution_count": 3
        }
      ]
    },
    {
      "cell_type": "markdown",
      "metadata": {
        "id": "ZA3s5rPwVYwb",
        "colab_type": "text"
      },
      "source": [
        "## 文件操作"
      ]
    },
    {
      "cell_type": "code",
      "metadata": {
        "id": "BtvjeQktVUSg",
        "colab_type": "code",
        "colab": {}
      },
      "source": [
        "# coding=utf-8\n",
        "\n",
        "import os\n",
        "allFileNum = 0\n",
        "def printPath(level, path):\n",
        "    global allFileNum\n",
        "    '''\n",
        "    打印一个目录下的所有文件夹和文件\n",
        "    '''\n",
        "    # 所有文件夹，第一个字段是次目录的级别\n",
        "    dirList = []\n",
        "    # 所有文件\n",
        "    fileList = []\n",
        "    # 返回一个列表，其中包含在目录条目的名称(google翻译)\n",
        "    files = os.listdir(path)\n",
        "    # 先添加目录级别\n",
        "    dirList.append(str(level))\n",
        "    for f in files:\n",
        "        if(os.path.isdir(path + '/' + f)):\n",
        "            # 排除隐藏文件夹。因为隐藏文件夹过多\n",
        "            if(f[0] == '.'):\n",
        "                pass\n",
        "            else:\n",
        "                # 添加非隐藏文件夹\n",
        "                dirList.append(f)\n",
        "        if(os.path.isfile(path + '/' + f)):\n",
        "            # 添加文件\n",
        "            fileList.append(f)\n",
        "    # 当一个标志使用，文件夹列表第一个级别不打印\n",
        "    i_dl = 0\n",
        "    for dl in dirList:\n",
        "        if(i_dl == 0):\n",
        "            i_dl = i_dl + 1\n",
        "        else:\n",
        "            # 打印至控制台，不是第一个的目录\n",
        "            print '-' * (int(dirList[0])), dl\n",
        "            # 打印目录下的所有文件夹和文件，目录级别+1\n",
        "            printPath((int(dirList[0]) + 1), path + '/' + dl)\n",
        "    for fl in fileList:\n",
        "        # 打印文件\n",
        "        print '-' * (int(dirList[0])), fl\n",
        "        # 随便计算一下有多少个文件\n",
        "        allFileNum = allFileNum + 1\n",
        "\n",
        "if __name__ == '__main__':\n",
        "    printPath(1, '/Users/renxie/')\n",
        "    print '总文件数 =', allFileNum\n"
      ],
      "execution_count": 0,
      "outputs": []
    },
    {
      "cell_type": "markdown",
      "metadata": {
        "id": "uYrVkv6nVyas",
        "colab_type": "text"
      },
      "source": [
        "## 面向对象"
      ]
    },
    {
      "cell_type": "code",
      "metadata": {
        "id": "VVK6k3xRV1fq",
        "colab_type": "code",
        "colab": {}
      },
      "source": [
        ""
      ],
      "execution_count": 0,
      "outputs": []
    }
  ]
}